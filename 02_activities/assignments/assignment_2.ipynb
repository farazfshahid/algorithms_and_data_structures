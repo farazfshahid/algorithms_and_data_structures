{
 "cells": [
  {
   "cell_type": "markdown",
   "metadata": {},
   "source": [
    "# Practice Interview\n",
    "\n",
    "## Objective\n",
    "\n",
    "_*The partner assignment aims to provide participants with the opportunity to practice coding in an interview context. You will analyze your partner's Assignment 1. Moreover, code reviews are common practice in a software development team. This assignment should give you a taste of the code review process.*_\n",
    "\n",
    "## Group Size\n",
    "\n",
    "Each group should have 2 people. You will be assigned a partner\n",
    "\n",
    "## Part 1:\n",
    "\n",
    "You and your partner must share each other's Assignment 1 submission."
   ]
  },
  {
   "cell_type": "markdown",
   "metadata": {},
   "source": [
    "\n",
    "## Part 2:\n",
    "\n",
    "Create a Jupyter Notebook, create 6 of the following headings, and complete the following for your partner's assignment 1:\n",
    "\n",
    "-   Paraphrase the problem in your own words.\n"
   ]
  },
  {
   "cell_type": "code",
   "execution_count": 3,
   "metadata": {},
   "outputs": [],
   "source": [
    "# Your answer here...\n",
    "\n",
    "# We are given a list of numbers that may contain duplicates. These numbers range from 0 to n, but some numbers might be missing from this range. \n",
    "# Our task is to find and return a list of all the missing numbers. If there are no missing numbers, return -1."
   ]
  },
  {
   "cell_type": "markdown",
   "metadata": {},
   "source": [
    "\n",
    "-   Create 1 new example that demonstrates you understand the problem. Trace/walkthrough 1 example that your partner made and explain it.\n"
   ]
  },
  {
   "cell_type": "code",
   "execution_count": 4,
   "metadata": {},
   "outputs": [],
   "source": [
    "# Your answer here\n",
    "\n",
    "#Example Code to run: lst = [3, 0, 1, 5, 6]\n",
    "#Expected Output: [2, 4]\n",
    "#The given list is [3, 0, 1, 5, 6]. The range of numbers should be [0, 1, 2, 3, 4, 5, 6]. Comparing the given list with the expected range, the missing numbers are 2 and 4.\n",
    "\n",
    "#Partner's Example: \n",
    "#lst = [6, 8, 2, 3, 5, 7, 0, 1, 10]\n",
    "#Output: [4, 9]\n",
    "#Walkthrough: \n",
    "#(i)The range of numbers should be [0, 1, 2, 3, 4, 5, 6, 7, 8, 9, 10].\n",
    "#(ii)The given list is [6, 8, 2, 3, 5, 7, 0, 1, 10].\n",
    "#(iii)Checking which numbers are missing: The numbers 4 and 9 are not present in the list.\n",
    "#Hence, the expected output is [4, 9]."
   ]
  },
  {
   "cell_type": "markdown",
   "metadata": {},
   "source": [
    "\n",
    "-   Copy the solution your partner wrote. \n"
   ]
  },
  {
   "cell_type": "code",
   "execution_count": null,
   "metadata": {},
   "outputs": [],
   "source": [
    "# Your answer here\n",
    "# Definition for a binary tree node.\n",
    "class TreeNode(object):\n",
    "    def __init__(self, val=0, left=None, right=None):\n",
    "        self.val = val\n",
    "        self.left = left\n",
    "        self.right = right\n",
    "\n",
    "def bt_path(root: TreeNode) -> List[List[int]]:\n",
    "    def dfs(node, path, paths):\n",
    "        if not node:\n",
    "            return\n",
    "        path.append(node.val)  \n",
    "        if not node.left and not node.right:  \n",
    "            paths.append(list(path))  \n",
    "        else:\n",
    "            dfs(node.left, path, paths)  \n",
    "            dfs(node.right, path, paths)  \n",
    "        path.pop()  \n",
    "\n",
    "    result = []\n",
    "    dfs(root, [], result) \n",
    "    return result"
   ]
  },
  {
   "cell_type": "markdown",
   "metadata": {},
   "source": [
    "\n",
    "-   Explain why their solution works in your own words.\n"
   ]
  },
  {
   "cell_type": "code",
   "execution_count": 9,
   "metadata": {},
   "outputs": [],
   "source": [
    "# Your answer here...\n",
    "#My partner’s solution doesn’t actually solve the missing number problem. Instead, it tackles a completely different problem—finding all paths from the root to the leaf nodes in a binary tree \n",
    "#using Depth-First Search (DFS). The function bt_path(root) starts at the root and recursively explores each possible path in the tree. It keeps track of the current path and, when it reaches \n",
    "#a leaf node (a node with no children), it saves that path. The function then backtracks, removing the last node, and continues exploring other paths. \n",
    "# While this approach works well for tree traversal, it doesn’t address the actual problem, which is finding missing numbers in a given range [0, n]. \n",
    "# To solve the missing number problem, we’d need a completely different approach—probably something involving sets or sorting to efficiently compare the given list to the expected range."
   ]
  },
  {
   "cell_type": "markdown",
   "metadata": {},
   "source": [
    "\n",
    "-   Explain the problem’s time and space complexity in your own words.\n"
   ]
  },
  {
   "cell_type": "code",
   "execution_count": 10,
   "metadata": {},
   "outputs": [],
   "source": [
    "# Your answer here\n",
    "#Since my partner’s solution is solving a binary tree path problem instead of the missing number problem, I will analyze its time and space complexity based on how it works.\n",
    "\n",
    "#The function bt_path(root) uses Depth-First Search (DFS) to explore all possible paths in a binary tree. In the worst case, where the tree is balanced, there are about O(2^h) leaf nodes, \n",
    "# where h is the height of the tree. Since we store each path in memory, the time complexity is O(N), where N is the total number of nodes in the tree. \n",
    "# This is because every node is visited exactly once.\n",
    "\n",
    "#For space complexity, the worst-case scenario occurs in a linked-list-shaped tree (where each node only has one child), leading to a recursion depth of O(N). \n",
    "# In a balanced tree, the number of paths could be exponential in terms of height, making the worst-case space complexity O(N) for the call stack and O(N) for storing the paths.\n",
    "\n",
    "#However, for the actual missing number problem, the expected time complexity should ideally be O(N) using a set-based approach or O(N log N) if sorting is used. \n",
    "#Space complexity would be O(N) in most cases, depending on the method used."
   ]
  },
  {
   "cell_type": "markdown",
   "metadata": {},
   "source": [
    "\n",
    "-   Critique your partner's solution, including explanation, and if there is anything that should be adjusted.\n"
   ]
  },
  {
   "cell_type": "code",
   "execution_count": 11,
   "metadata": {},
   "outputs": [],
   "source": [
    "# Your answer here..\n",
    "#My partner’s solution is incorrect because it addresses a binary tree path problem, not the missing number problem. \n",
    "# The problem asks to find missing numbers from a list in the range [0, n], but the solution uses Depth-First Search (DFS) to find paths in a binary tree, which is irrelevant to the task.\n",
    "\n",
    "#The solution’s time complexity of O(N) and space complexity of O(N) is appropriate for tree traversal but unnecessary for this problem. \n",
    "# For the missing number problem, a simpler approach like using a set or sorting the list would work with the same O(N) time complexity and space complexity. \n",
    "# The solution should be rewritten to focus on finding the missing numbers in a list rather than tree paths."
   ]
  },
  {
   "cell_type": "markdown",
   "metadata": {},
   "source": [
    "\n",
    "## Part 3:\n",
    "\n",
    "Please write a 200 word reflection documenting your process from assignment 1, and your presentation and review experience with your partner at the bottom of the Jupyter Notebook under a new heading \"Reflection.\" Again, export this Notebook as pdf.\n"
   ]
  },
  {
   "cell_type": "markdown",
   "metadata": {},
   "source": [
    "### Reflection"
   ]
  },
  {
   "cell_type": "code",
   "execution_count": 12,
   "metadata": {},
   "outputs": [],
   "source": [
    "# Your answer here\n",
    "#Working through Assignment 1, I focused on solving the problem of finding missing numbers in a given list that spans from 0 to n. \n",
    "# My main goal was to come up with an efficient solution, both in terms of time and space. \n",
    "# I decided to use sets, as they allow for fast lookups, and this approach seemed like the best option for keeping the solution simple and efficient. \n",
    "# The challenge was to make sure the code could handle different inputs and still perform well with a time complexity of O(N) and space complexity of O(N).\n",
    "\n",
    "#When it came time to review my partner’s solution, I realized there was a mix-up. Instead of solving the missing number problem, they were solving a binary tree path problem. \n",
    "# While their code was correct for that task, it didn’t address the problem I was working on. I pointed this out to them and suggested a more relevant approach. \n",
    "# This experience really highlighted how important it is to understand the problem fully before jumping into the solution, and how helpful code reviews can be in catching misunderstandings.\n",
    "\n",
    "#Overall, I learned a lot about reviewing code and the value of making sure the right problem is being solved."
   ]
  },
  {
   "cell_type": "markdown",
   "metadata": {},
   "source": [
    "\n",
    "## Evaluation Criteria\n",
    "\n",
    "We are looking for the similar points as Assignment 1\n",
    "\n",
    "-   Problem is accurately stated\n",
    "\n",
    "-   New example is correct and easily understandable\n",
    "\n",
    "-   Correctness, time, and space complexity of the coding solution\n",
    "\n",
    "-   Clarity in explaining why the solution works, its time and space complexity\n",
    "\n",
    "-   Quality of critique of your partner's assignment, if necessary\n"
   ]
  },
  {
   "cell_type": "markdown",
   "metadata": {},
   "source": [
    "## Submission Information\n",
    "\n",
    "🚨 **Please review our [Assignment Submission Guide](https://github.com/UofT-DSI/onboarding/blob/main/onboarding_documents/submissions.md)** 🚨 for detailed instructions on how to format, branch, and submit your work. Following these guidelines is crucial for your submissions to be evaluated correctly.\n",
    "\n",
    "### Submission Parameters:\n",
    "* Submission Due Date: `HH:MM AM/PM - DD/MM/YYYY`\n",
    "* The branch name for your repo should be: `assignment-2`\n",
    "* What to submit for this assignment:\n",
    "    * This Jupyter Notebook (assignment_2.ipynb) should be populated and should be the only change in your pull request.\n",
    "* What the pull request link should look like for this assignment: `https://github.com/<your_github_username>/algorithms_and_data_structures/pull/<pr_id>`\n",
    "    * Open a private window in your browser. Copy and paste the link to your pull request into the address bar. Make sure you can see your pull request properly. This helps the technical facilitator and learning support staff review your submission easily.\n",
    "\n",
    "Checklist:\n",
    "- [ ] Created a branch with the correct naming convention.\n",
    "- [ ] Ensured that the repository is public.\n",
    "- [ ] Reviewed the PR description guidelines and adhered to them.\n",
    "- [ ] Verify that the link is accessible in a private browser window.\n",
    "\n",
    "If you encounter any difficulties or have questions, please don't hesitate to reach out to our team via our Slack at `#cohort-3-help`. Our Technical Facilitators and Learning Support staff are here to help you navigate any challenges.\n"
   ]
  }
 ],
 "metadata": {
  "kernelspec": {
   "display_name": "faraz_shahid",
   "language": "python",
   "name": "python3"
  },
  "language_info": {
   "codemirror_mode": {
    "name": "ipython",
    "version": 3
   },
   "file_extension": ".py",
   "mimetype": "text/x-python",
   "name": "python",
   "nbconvert_exporter": "python",
   "pygments_lexer": "ipython3",
   "version": "3.9.15"
  }
 },
 "nbformat": 4,
 "nbformat_minor": 2
}
